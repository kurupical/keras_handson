{
 "cells": [
  {
   "cell_type": "markdown",
   "metadata": {},
   "source": [
    "# 必要なモジュールのインポート\n"
   ]
  },
  {
   "cell_type": "code",
   "execution_count": 1,
   "metadata": {
    "scrolled": true
   },
   "outputs": [
    {
     "name": "stderr",
     "output_type": "stream",
     "text": [
      "Using TensorFlow backend.\n"
     ]
    }
   ],
   "source": [
    "from __future__ import print_function\n",
    "\n",
    "import keras\n",
    "from keras.datasets import mnist\n",
    "from keras.models import Sequential\n",
    "from keras.layers import Dense, Dropout\n",
    "from keras.optimizers import RMSprop\n"
   ]
  },
  {
   "cell_type": "markdown",
   "metadata": {},
   "source": [
    "# 前処理\n",
    "\n",
    "## テストデータの取得\n",
    "Kerasが提供してくれている手書き数字文字を取得します。\n",
    "\n",
    "* x_train : 訓練用のデータ\n",
    "* y_train : 訓練用のデータのラベル\n",
    "* x_test : テスト用のデータ\n",
    "* y_test : テスト用のデータのラベル\n"
   ]
  },
  {
   "cell_type": "code",
   "execution_count": 2,
   "metadata": {
    "collapsed": true
   },
   "outputs": [],
   "source": [
    "(x_train, y_train), (x_test, y_test) = mnist.load_data()"
   ]
  },
  {
   "cell_type": "markdown",
   "metadata": {},
   "source": [
    "## テストデータの内容確認①\n",
    "x_train,x_testは、それぞれ3次元の配列で渡されます。<br>\n",
    "x_trainは60000枚の28px*28pxの画像、x_testは10000枚の28px*28pxの画像。<br>\n",
    "x_train,y_trainの配列がどのような形をしているか、確認してみます。"
   ]
  },
  {
   "cell_type": "code",
   "execution_count": 3,
   "metadata": {
    "scrolled": true
   },
   "outputs": [
    {
     "name": "stdout",
     "output_type": "stream",
     "text": [
      "x_trainの形:(60000, 28, 28)\n",
      "x_testの形:(10000, 28, 28)\n"
     ]
    }
   ],
   "source": [
    "# 内容確認。ここは書かなくてOKです\n",
    "print(\"x_trainの形:{}\".format(x_train.shape))\n",
    "print(\"x_testの形:{}\".format(x_test.shape))"
   ]
  },
  {
   "cell_type": "markdown",
   "metadata": {},
   "source": [
    "## テストデータの整形\n",
    "ニューラルネットワークの入力層にするには、データを1次元にする必要があります。<br>\n",
    "x_train,x_testをそれぞれ、60000枚×1次元784pxの画像に変換します。<br>\n",
    "\n",
    "Kerasは単精度浮動小数点(float32)で演算を行うので、Kerasに合わせてテストデータの型を変換します。<br>"
   ]
  },
  {
   "cell_type": "code",
   "execution_count": 4,
   "metadata": {
    "collapsed": true
   },
   "outputs": [],
   "source": [
    "x_train = x_train.reshape(60000, 784) # [60000][28][28] -> [60000][784]に変換\n",
    "x_test = x_test.reshape(10000, 784)\n",
    "x_train = x_train.astype('float32') # テストデータの型をfloat32に変換\n",
    "x_test = x_test.astype('float32')\n",
    "\n",
    "# データの簡易的な正規化。データを正規化(平均0,標準偏差1になるよう変換)することで、\n",
    "# 学習が早くなります。本来はBatchNormalizationとか使います。\n",
    "x_train = x_train / 255 \n",
    "x_test = x_test / 255"
   ]
  },
  {
   "cell_type": "markdown",
   "metadata": {},
   "source": [
    "## テストデータの内容確認②\n",
    "\n",
    "少しイメージがつかみにくいと思うので、x_trainの中身を覗いてみます。<br>\n",
    "\n",
    "x_train[n][0] 〜 x_train[n][783] が1枚の画像データの集まりです。<br>\n",
    "\n",
    "試しに、<br>\n",
    "・x_train[0][0] 〜 x_train[0][783]<br>\n",
    "・x_train[1][0] 〜 x_train[1][783]<br>\n",
    "・x_train[2][0] 〜 x_train[2][783]<br>\n",
    "のデータを表示してみます。<br>\n"
   ]
  },
  {
   "cell_type": "code",
   "execution_count": 5,
   "metadata": {},
   "outputs": [
    {
     "name": "stdout",
     "output_type": "stream",
     "text": [
      "********************************\n",
      "x_train[0]のデータ\n",
      "********************************\n",
      "\n",
      "000 000 000 000 000 000 000 000 000 000 000 000 000 000 000 000 000 000 000 000 000 000 000 000 000 000 000 \n",
      "000 000 000 000 000 000 000 000 000 000 000 000 000 000 000 000 000 000 000 000 000 000 000 000 000 000 000 \n",
      "000 000 000 000 000 000 000 000 000 000 000 000 000 000 000 000 000 000 000 000 000 000 000 000 000 000 000 \n",
      "000 000 000 000 000 000 000 000 000 000 000 000 000 000 000 000 000 000 000 000 000 000 000 000 000 000 000 \n",
      "000 000 000 000 000 000 000 000 000 000 000 000 000 000 000 000 000 000 000 000 000 000 000 000 000 000 000 \n",
      "000 000 000 000 000 000 000 000 000 000 000 000 003 018 018 018 126 136 175 026 166 255 247 127 000 000 000 \n",
      "000 000 000 000 000 000 000 000 030 036 094 154 170 253 253 253 253 253 225 172 253 242 195 064 000 000 000 \n",
      "000 000 000 000 000 000 000 049 238 253 253 253 253 253 253 253 253 251 093 082 082 056 039 000 000 000 000 \n",
      "000 000 000 000 000 000 000 018 219 253 253 253 253 253 198 182 247 241 000 000 000 000 000 000 000 000 000 \n",
      "000 000 000 000 000 000 000 000 080 156 107 253 253 205 011 000 043 154 000 000 000 000 000 000 000 000 000 \n",
      "000 000 000 000 000 000 000 000 000 014 001 154 253 090 000 000 000 000 000 000 000 000 000 000 000 000 000 \n",
      "000 000 000 000 000 000 000 000 000 000 000 139 253 190 002 000 000 000 000 000 000 000 000 000 000 000 000 \n",
      "000 000 000 000 000 000 000 000 000 000 000 011 190 253 070 000 000 000 000 000 000 000 000 000 000 000 000 \n",
      "000 000 000 000 000 000 000 000 000 000 000 000 035 241 225 160 108 001 000 000 000 000 000 000 000 000 000 \n",
      "000 000 000 000 000 000 000 000 000 000 000 000 000 081 240 253 253 119 025 000 000 000 000 000 000 000 000 \n",
      "000 000 000 000 000 000 000 000 000 000 000 000 000 000 045 186 253 253 150 027 000 000 000 000 000 000 000 \n",
      "000 000 000 000 000 000 000 000 000 000 000 000 000 000 000 016 093 252 253 187 000 000 000 000 000 000 000 \n",
      "000 000 000 000 000 000 000 000 000 000 000 000 000 000 000 000 000 249 253 249 064 000 000 000 000 000 000 \n",
      "000 000 000 000 000 000 000 000 000 000 000 000 000 000 046 130 183 253 253 207 002 000 000 000 000 000 000 \n",
      "000 000 000 000 000 000 000 000 000 000 000 000 039 148 229 253 253 253 250 182 000 000 000 000 000 000 000 \n",
      "000 000 000 000 000 000 000 000 000 000 024 114 221 253 253 253 253 201 078 000 000 000 000 000 000 000 000 \n",
      "000 000 000 000 000 000 000 000 023 066 213 253 253 253 253 198 081 002 000 000 000 000 000 000 000 000 000 \n",
      "000 000 000 000 000 000 018 171 219 253 253 253 253 195 080 009 000 000 000 000 000 000 000 000 000 000 000 \n",
      "000 000 000 000 055 172 226 253 253 253 253 244 133 011 000 000 000 000 000 000 000 000 000 000 000 000 000 \n",
      "000 000 000 000 136 253 253 253 212 135 132 016 000 000 000 000 000 000 000 000 000 000 000 000 000 000 000 \n",
      "000 000 000 000 000 000 000 000 000 000 000 000 000 000 000 000 000 000 000 000 000 000 000 000 000 000 000 \n",
      "000 000 000 000 000 000 000 000 000 000 000 000 000 000 000 000 000 000 000 000 000 000 000 000 000 000 000 \n",
      "\n",
      "\n",
      "********************************\n",
      "x_train[1]のデータ\n",
      "********************************\n",
      "\n",
      "000 000 000 000 000 000 000 000 000 000 000 000 000 000 000 000 000 000 000 000 000 000 000 000 000 000 000 \n",
      "000 000 000 000 000 000 000 000 000 000 000 000 000 000 000 000 000 000 000 000 000 000 000 000 000 000 000 \n",
      "000 000 000 000 000 000 000 000 000 000 000 000 000 000 000 000 000 000 000 000 000 000 000 000 000 000 000 \n",
      "000 000 000 000 000 000 000 000 000 000 000 000 000 000 000 000 000 000 000 000 000 000 000 000 000 000 000 \n",
      "000 000 000 000 000 000 000 000 000 000 000 000 000 000 000 051 159 253 159 050 000 000 000 000 000 000 000 \n",
      "000 000 000 000 000 000 000 000 000 000 000 000 000 000 048 238 252 252 252 237 000 000 000 000 000 000 000 \n",
      "000 000 000 000 000 000 000 000 000 000 000 000 000 054 227 253 252 239 233 252 057 006 000 000 000 000 000 \n",
      "000 000 000 000 000 000 000 000 000 000 000 010 060 224 252 253 252 202 084 252 253 122 000 000 000 000 000 \n",
      "000 000 000 000 000 000 000 000 000 000 000 163 252 252 252 253 252 252 096 189 253 167 000 000 000 000 000 \n",
      "000 000 000 000 000 000 000 000 000 000 051 238 253 253 190 114 253 228 047 079 255 168 000 000 000 000 000 \n",
      "000 000 000 000 000 000 000 000 000 048 238 252 252 179 012 075 121 021 000 000 253 243 050 000 000 000 000 \n",
      "000 000 000 000 000 000 000 000 038 165 253 233 208 084 000 000 000 000 000 000 253 252 165 000 000 000 000 \n",
      "000 000 000 000 000 000 000 007 178 252 240 071 019 028 000 000 000 000 000 000 253 252 195 000 000 000 000 \n",
      "000 000 000 000 000 000 000 057 252 252 063 000 000 000 000 000 000 000 000 000 253 252 195 000 000 000 000 \n",
      "000 000 000 000 000 000 000 198 253 190 000 000 000 000 000 000 000 000 000 000 255 253 196 000 000 000 000 \n",
      "000 000 000 000 000 000 076 246 252 112 000 000 000 000 000 000 000 000 000 000 253 252 148 000 000 000 000 \n",
      "000 000 000 000 000 000 085 252 230 025 000 000 000 000 000 000 000 000 007 135 253 186 012 000 000 000 000 \n",
      "000 000 000 000 000 000 085 252 223 000 000 000 000 000 000 000 000 007 131 252 225 071 000 000 000 000 000 \n",
      "000 000 000 000 000 000 085 252 145 000 000 000 000 000 000 000 048 165 252 173 000 000 000 000 000 000 000 \n",
      "000 000 000 000 000 000 086 253 225 000 000 000 000 000 000 114 238 253 162 000 000 000 000 000 000 000 000 \n",
      "000 000 000 000 000 000 085 252 249 146 048 029 085 178 225 253 223 167 056 000 000 000 000 000 000 000 000 \n",
      "000 000 000 000 000 000 085 252 252 252 229 215 252 252 252 196 130 000 000 000 000 000 000 000 000 000 000 \n",
      "000 000 000 000 000 000 028 199 252 252 253 252 252 233 145 000 000 000 000 000 000 000 000 000 000 000 000 \n",
      "000 000 000 000 000 000 000 025 128 252 253 252 141 037 000 000 000 000 000 000 000 000 000 000 000 000 000 \n",
      "000 000 000 000 000 000 000 000 000 000 000 000 000 000 000 000 000 000 000 000 000 000 000 000 000 000 000 \n",
      "000 000 000 000 000 000 000 000 000 000 000 000 000 000 000 000 000 000 000 000 000 000 000 000 000 000 000 \n",
      "000 000 000 000 000 000 000 000 000 000 000 000 000 000 000 000 000 000 000 000 000 000 000 000 000 000 000 \n",
      "\n",
      "\n",
      "********************************\n",
      "x_train[2]のデータ\n",
      "********************************\n",
      "\n",
      "000 000 000 000 000 000 000 000 000 000 000 000 000 000 000 000 000 000 000 000 000 000 000 000 000 000 000 \n",
      "000 000 000 000 000 000 000 000 000 000 000 000 000 000 000 000 000 000 000 000 000 000 000 000 000 000 000 \n",
      "000 000 000 000 000 000 000 000 000 000 000 000 000 000 000 000 000 000 000 000 000 000 000 000 000 000 000 \n",
      "000 000 000 000 000 000 000 000 000 000 000 000 000 000 000 000 000 000 000 000 000 000 000 000 000 000 000 \n",
      "000 000 000 000 000 000 000 000 000 000 000 000 000 000 000 000 000 000 000 000 000 000 000 000 000 000 000 \n",
      "000 000 000 000 000 000 000 000 000 000 000 000 000 000 000 000 000 000 000 000 067 232 039 000 000 000 000 \n",
      "000 000 000 000 062 081 000 000 000 000 000 000 000 000 000 000 000 000 000 000 120 180 039 000 000 000 000 \n",
      "000 000 000 000 126 163 000 000 000 000 000 000 000 000 000 000 000 000 000 002 153 210 040 000 000 000 000 \n",
      "000 000 000 000 220 163 000 000 000 000 000 000 000 000 000 000 000 000 000 027 254 162 000 000 000 000 000 \n",
      "000 000 000 000 222 163 000 000 000 000 000 000 000 000 000 000 000 000 000 183 254 125 000 000 000 000 000 \n",
      "000 000 000 046 245 163 000 000 000 000 000 000 000 000 000 000 000 000 000 198 254 056 000 000 000 000 000 \n",
      "000 000 000 120 254 163 000 000 000 000 000 000 000 000 000 000 000 000 023 231 254 029 000 000 000 000 000 \n",
      "000 000 000 159 254 120 000 000 000 000 000 000 000 000 000 000 000 000 163 254 216 016 000 000 000 000 000 \n",
      "000 000 000 159 254 067 000 000 000 000 000 000 000 000 000 014 086 178 248 254 091 000 000 000 000 000 000 \n",
      "000 000 000 159 254 085 000 000 000 047 049 116 144 150 241 243 234 179 241 252 040 000 000 000 000 000 000 \n",
      "000 000 000 150 253 237 207 207 207 253 254 250 240 198 143 091 028 005 233 250 000 000 000 000 000 000 000 \n",
      "000 000 000 000 119 177 177 177 177 177 098 056 000 000 000 000 000 102 254 220 000 000 000 000 000 000 000 \n",
      "000 000 000 000 000 000 000 000 000 000 000 000 000 000 000 000 000 169 254 137 000 000 000 000 000 000 000 \n",
      "000 000 000 000 000 000 000 000 000 000 000 000 000 000 000 000 000 169 254 057 000 000 000 000 000 000 000 \n",
      "000 000 000 000 000 000 000 000 000 000 000 000 000 000 000 000 000 169 254 057 000 000 000 000 000 000 000 \n",
      "000 000 000 000 000 000 000 000 000 000 000 000 000 000 000 000 000 169 255 094 000 000 000 000 000 000 000 \n",
      "000 000 000 000 000 000 000 000 000 000 000 000 000 000 000 000 000 169 254 096 000 000 000 000 000 000 000 \n",
      "000 000 000 000 000 000 000 000 000 000 000 000 000 000 000 000 000 169 254 153 000 000 000 000 000 000 000 \n",
      "000 000 000 000 000 000 000 000 000 000 000 000 000 000 000 000 000 169 255 153 000 000 000 000 000 000 000 \n",
      "000 000 000 000 000 000 000 000 000 000 000 000 000 000 000 000 000 096 254 153 000 000 000 000 000 000 000 \n",
      "000 000 000 000 000 000 000 000 000 000 000 000 000 000 000 000 000 000 000 000 000 000 000 000 000 000 000 \n",
      "000 000 000 000 000 000 000 000 000 000 000 000 000 000 000 000 000 000 000 000 000 000 000 000 000 000 000 \n",
      "\n",
      "\n"
     ]
    }
   ],
   "source": [
    "# 内容確認。ここは書かなくてOKです\n",
    "for i in range(3):\n",
    "    print(\"********************************\")\n",
    "    print(\"x_train[{}]のデータ\".format(i))\n",
    "    print(\"********************************\\n\")\n",
    "    \n",
    "    for j in range(27):\n",
    "        w_str = \"\"\n",
    "        for k in range(27):\n",
    "            w_str2 = \"{0:03d} \".format(int(x_train[i][28 * j + k]))\n",
    "            w_str = w_str + w_str2 \n",
    "        print(w_str)\n",
    "    print(\"\\n\")\n"
   ]
  },
  {
   "cell_type": "markdown",
   "metadata": {
    "collapsed": true
   },
   "source": [
    "## 教師ラベルの内容確認①\n",
    "続いて、y_trainとy_testの内容を確認してみます。"
   ]
  },
  {
   "cell_type": "code",
   "execution_count": 6,
   "metadata": {},
   "outputs": [
    {
     "name": "stdout",
     "output_type": "stream",
     "text": [
      "y_trainの形:(60000,)\n",
      "y_train:[5 0 4 ..., 5 6 8]\n",
      "y_testの形:(10000,)\n",
      "y_test:[7 2 1 ..., 4 5 6]\n"
     ]
    }
   ],
   "source": [
    "#############################################\n",
    "# 内容確認。ここは書かなくてOKです。\n",
    "#############################################\n",
    "print(\"y_trainの形:{}\".format(y_train.shape))\n",
    "print(\"y_train:{}\".format(y_train))\n",
    "print(\"y_testの形:{}\".format(y_test.shape))\n",
    "print(\"y_test:{}\".format(y_test))"
   ]
  },
  {
   "cell_type": "markdown",
   "metadata": {
    "collapsed": true
   },
   "source": [
    "## 教師ラベルの整形\n",
    "出力層のノード数は10です。<br>\n",
    "今は60000×1次元ですが、これを60000×10次元に変換します。"
   ]
  },
  {
   "cell_type": "code",
   "execution_count": 7,
   "metadata": {
    "collapsed": true
   },
   "outputs": [],
   "source": [
    "y_train = keras.utils.to_categorical(y_train, 10)\n",
    "y_test = keras.utils.to_categorical(y_test, 10)"
   ]
  },
  {
   "cell_type": "markdown",
   "metadata": {},
   "source": [
    "## 教師ラベルの内容確認②\n",
    "変換後の内容を確認してみましょう。\n"
   ]
  },
  {
   "cell_type": "code",
   "execution_count": 8,
   "metadata": {},
   "outputs": [
    {
     "name": "stdout",
     "output_type": "stream",
     "text": [
      "y_trainの形:(60000, 10)\n",
      "y_train:[[ 0.  0.  0. ...,  0.  0.  0.]\n",
      " [ 1.  0.  0. ...,  0.  0.  0.]\n",
      " [ 0.  0.  0. ...,  0.  0.  0.]\n",
      " ..., \n",
      " [ 0.  0.  0. ...,  0.  0.  0.]\n",
      " [ 0.  0.  0. ...,  0.  0.  0.]\n",
      " [ 0.  0.  0. ...,  0.  1.  0.]]\n",
      "y_testの形:(10000, 10)\n",
      "y_test:[[ 0.  0.  0. ...,  1.  0.  0.]\n",
      " [ 0.  0.  1. ...,  0.  0.  0.]\n",
      " [ 0.  1.  0. ...,  0.  0.  0.]\n",
      " ..., \n",
      " [ 0.  0.  0. ...,  0.  0.  0.]\n",
      " [ 0.  0.  0. ...,  0.  0.  0.]\n",
      " [ 0.  0.  0. ...,  0.  0.  0.]]\n"
     ]
    }
   ],
   "source": [
    "#############################################\n",
    "# 内容確認。ここは書かなくてOKです。\n",
    "#############################################\n",
    "print(\"y_trainの形:{}\".format(y_train.shape))\n",
    "print(\"y_train:{}\".format(y_train))\n",
    "print(\"y_testの形:{}\".format(y_test.shape))\n",
    "print(\"y_test:{}\".format(y_test))"
   ]
  },
  {
   "cell_type": "markdown",
   "metadata": {},
   "source": [
    "# ニューラルネットワーク\n",
    "\n",
    "## ニューラルネットワークの実装①\n",
    "\n",
    "以下の手順で行います<br>\n",
    "* 1.初期化\n",
    "    * model = Sequential()\n",
    "* 2.最初の隠れ層を定義\n",
    "    * model.add(Dense(ノード数, activation=活性化関数の名前), input_shape=(入力層の数,))\n",
    "* 3.隠れ層を重ねていく…\n",
    "    * model.add(Dense(ノード数, activation=活性化関数の名前))\n",
    "* 4.出力層を定義\n",
    "    * model.add(Dense(出力層のノード数, activation=出力層の活性化関数の名前))<br>\n",
    "      分類の場合は、それぞれの分類の確率を出力する'softmax'と入れておいてください。"
   ]
  },
  {
   "cell_type": "code",
   "execution_count": 9,
   "metadata": {},
   "outputs": [],
   "source": [
    "model = Sequential()\n",
    "model.add(Dense(512, activation='relu', input_shape=(784,))) # 隠れ層①\n",
    "model.add(Dropout(0.2))\n",
    "model.add(Dense(512, activation='relu')) # 隠れ層②\n",
    "model.add(Dropout(0.2))\n",
    "# 隠れ層はいくら重ねてもOKです(その分処理時間がかかります)\n",
    "# model.add(Dense(128, activation='relu'))\n",
    "# model.add(Dense(256, activation='relu'))\n",
    "# model.add(Dense(100, activation='relu'))\n",
    "# model.add(Dense(50, activation='relu'))\n",
    "model.add(Dense(10, activation='softmax')) # 出力層\n"
   ]
  },
  {
   "cell_type": "markdown",
   "metadata": {},
   "source": [
    "## ニューラルネットワークの内容確認\n",
    "model.summary()で構築したニューラルネットワークの確認ができます。<br>\n",
    "今回は、入力層(784)→隠れ層(512)→隠れ層(512)→出力層(10)で構築しました。<br>\n",
    "入力層以降のニューラルネットワークの定義が出力されます。"
   ]
  },
  {
   "cell_type": "code",
   "execution_count": 10,
   "metadata": {
    "scrolled": false
   },
   "outputs": [
    {
     "name": "stdout",
     "output_type": "stream",
     "text": [
      "_________________________________________________________________\n",
      "Layer (type)                 Output Shape              Param #   \n",
      "=================================================================\n",
      "dense_1 (Dense)              (None, 512)               401920    \n",
      "_________________________________________________________________\n",
      "dropout_1 (Dropout)          (None, 512)               0         \n",
      "_________________________________________________________________\n",
      "dense_2 (Dense)              (None, 512)               262656    \n",
      "_________________________________________________________________\n",
      "dropout_2 (Dropout)          (None, 512)               0         \n",
      "_________________________________________________________________\n",
      "dense_3 (Dense)              (None, 10)                5130      \n",
      "=================================================================\n",
      "Total params: 669,706\n",
      "Trainable params: 669,706\n",
      "Non-trainable params: 0\n",
      "_________________________________________________________________\n"
     ]
    }
   ],
   "source": [
    "model.summary()"
   ]
  },
  {
   "cell_type": "markdown",
   "metadata": {},
   "source": [
    "## ニューラルネットワークの実装②\n",
    "\n",
    "最後に、以下を設定します\n",
    "* 損失関数\n",
    "* 最適化アルゴリズム\n",
    "* 評価方法\n"
   ]
  },
  {
   "cell_type": "code",
   "execution_count": 11,
   "metadata": {
    "collapsed": true
   },
   "outputs": [],
   "source": [
    "model.compile(loss='categorical_crossentropy', # 損失関数=クロスエントロピー\n",
    "              optimizer=RMSprop(),             # 最適化アルゴリズムはRMSprop\n",
    "              metrics=['accuracy'])            # 評価方法は正解率(accuracy)"
   ]
  },
  {
   "cell_type": "markdown",
   "metadata": {},
   "source": [
    "## ニューラルネットワークの学習\n",
    "model.fitで学習を進めます。<br>\n",
    "引数の説明<br>\n",
    "* x_train : 訓練データ\n",
    "* y_train : 訓練データの教師ラベル\n",
    "* batch_size : 重み・バイアス更新１回あたりのデータ数\n",
    "* epochs : 訓練データを何回学習させるか\n",
    "* varbose : ログ出力方法 0:出力なし 1:プログレスバーで出力 2:普通に出力\n",
    "* validation_data : 性能を測るためのテストデータ\n",
    "\n",
    "出力されるテストの結果 \n",
    "* loss: 訓練データを入力したときの損失関数の値(小さくなっていく=学習が進んでいる)\n",
    "* acc: 訓練データでの正解率\n",
    "* val_loss: テストデータを入力したときの損失関数の値(小さくなっていく=学習が進んでいる)\n",
    "* val_acc: テストデータでの正解率\n"
   ]
  },
  {
   "cell_type": "code",
   "execution_count": 12,
   "metadata": {},
   "outputs": [
    {
     "name": "stdout",
     "output_type": "stream",
     "text": [
      "Train on 60000 samples, validate on 10000 samples\n",
      "Epoch 1/20\n",
      "60000/60000 [==============================] - 10s - loss: 10.3417 - acc: 0.3574 - val_loss: 9.1363 - val_acc: 0.4320\n",
      "Epoch 2/20\n",
      "60000/60000 [==============================] - 8s - loss: 8.8027 - acc: 0.4533 - val_loss: 8.5368 - val_acc: 0.4696\n",
      "Epoch 3/20\n",
      "60000/60000 [==============================] - 9s - loss: 8.7698 - acc: 0.4555 - val_loss: 8.2591 - val_acc: 0.4874\n",
      "Epoch 4/20\n",
      "60000/60000 [==============================] - 9s - loss: 8.5592 - acc: 0.4686 - val_loss: 8.4364 - val_acc: 0.4762\n",
      "Epoch 5/20\n",
      "60000/60000 [==============================] - 9s - loss: 8.4723 - acc: 0.4741 - val_loss: 8.3699 - val_acc: 0.4805\n",
      "Epoch 6/20\n",
      "60000/60000 [==============================] - 9s - loss: 8.5114 - acc: 0.4717 - val_loss: 8.6221 - val_acc: 0.4649\n",
      "Epoch 7/20\n",
      "60000/60000 [==============================] - 9s - loss: 8.4984 - acc: 0.4725 - val_loss: 8.2184 - val_acc: 0.4900\n",
      "Epoch 8/20\n",
      "60000/60000 [==============================] - 9s - loss: 8.4562 - acc: 0.4752 - val_loss: 8.2299 - val_acc: 0.4894\n",
      "Epoch 9/20\n",
      "60000/60000 [==============================] - 9s - loss: 8.4348 - acc: 0.4766 - val_loss: 8.2190 - val_acc: 0.4898\n",
      "Epoch 10/20\n",
      "60000/60000 [==============================] - 9s - loss: 8.3171 - acc: 0.4838 - val_loss: 8.1586 - val_acc: 0.4935\n",
      "Epoch 11/20\n",
      "60000/60000 [==============================] - 9s - loss: 8.3847 - acc: 0.4797 - val_loss: 8.2592 - val_acc: 0.4874\n",
      "Epoch 12/20\n",
      "60000/60000 [==============================] - 9s - loss: 8.3854 - acc: 0.4796 - val_loss: 8.1464 - val_acc: 0.4945\n",
      "Epoch 13/20\n",
      "60000/60000 [==============================] - 9s - loss: 8.3640 - acc: 0.4809 - val_loss: 8.1767 - val_acc: 0.4927\n",
      "Epoch 14/20\n",
      "60000/60000 [==============================] - 9s - loss: 8.3583 - acc: 0.4813 - val_loss: 8.1551 - val_acc: 0.4940\n",
      "Epoch 15/20\n",
      "60000/60000 [==============================] - 9s - loss: 8.3396 - acc: 0.4825 - val_loss: 8.1701 - val_acc: 0.4931\n",
      "Epoch 16/20\n",
      "60000/60000 [==============================] - 9s - loss: 8.3353 - acc: 0.4828 - val_loss: 8.1312 - val_acc: 0.4955\n",
      "Epoch 17/20\n",
      "60000/60000 [==============================] - 9s - loss: 8.2516 - acc: 0.4880 - val_loss: 8.1289 - val_acc: 0.4954\n",
      "Epoch 18/20\n",
      "60000/60000 [==============================] - 9s - loss: 8.3459 - acc: 0.4821 - val_loss: 8.2116 - val_acc: 0.4905\n",
      "Epoch 19/20\n",
      "60000/60000 [==============================] - 9s - loss: 8.3047 - acc: 0.4847 - val_loss: 8.2112 - val_acc: 0.4905\n",
      "Epoch 20/20\n",
      "60000/60000 [==============================] - 9s - loss: 8.3025 - acc: 0.4848 - val_loss: 8.2646 - val_acc: 0.4871\n"
     ]
    }
   ],
   "source": [
    "history = model.fit(x_train, y_train,\n",
    "                    batch_size=128,\n",
    "                    epochs=20,\n",
    "                    verbose=1,\n",
    "                    validation_data=(x_test, y_test))"
   ]
  },
  {
   "cell_type": "markdown",
   "metadata": {},
   "source": [
    "## ニューラルネットワークの推論\n",
    "model.predict_classメソッドを使って、入力されたデータ（手書き文字）を推論します。<br>"
   ]
  },
  {
   "cell_type": "code",
   "execution_count": 28,
   "metadata": {},
   "outputs": [
    {
     "name": "stdout",
     "output_type": "stream",
     "text": [
      "NNの予想は:[9 2 1 ..., 9 1 6]\n"
     ]
    }
   ],
   "source": [
    "# 入力データを推論\n",
    "pred = model.predict_classes(x_test, batch_size=1, verbose=0)\n",
    "print(\"NNの予想は:{}\".format(pred))"
   ]
  },
  {
   "cell_type": "markdown",
   "metadata": {},
   "source": [
    "## ニューラルネットワークの推論（本当にあってるのか確認）\n",
    "本当にあっているのか確認します。<br>"
   ]
  },
  {
   "cell_type": "code",
   "execution_count": 40,
   "metadata": {},
   "outputs": [
    {
     "name": "stdout",
     "output_type": "stream",
     "text": [
      "********************************\n",
      "x_test[0]のデータ\n",
      "********************************\n",
      "\n",
      "NNの予想は:[9]\n",
      "画像は...\n"
     ]
    },
    {
     "data": {
      "image/png": "[encoded data removed]",
      "text/plain": [
       "<matplotlib.figure.Figure at 0x7f37f41d96d8>"
      ]
     },
     "metadata": {},
     "output_type": "display_data"
    },
    {
     "name": "stdout",
     "output_type": "stream",
     "text": [
      "********************************\n",
      "x_test[1]のデータ\n",
      "********************************\n",
      "\n",
      "NNの予想は:[2]\n",
      "画像は...\n"
     ]
    },
    {
     "data": {
      "image/png": "[encoded data removed]",
      "text/plain": [
       "<matplotlib.figure.Figure at 0x7f37f40f35f8>"
      ]
     },
     "metadata": {},
     "output_type": "display_data"
    },
    {
     "name": "stdout",
     "output_type": "stream",
     "text": [
      "********************************\n",
      "x_test[2]のデータ\n",
      "********************************\n",
      "\n",
      "NNの予想は:[1]\n",
      "画像は...\n"
     ]
    },
    {
     "data": {
      "image/png": "[encoded data removed]",
      "text/plain": [
       "<matplotlib.figure.Figure at 0x7f37f43299b0>"
      ]
     },
     "metadata": {},
     "output_type": "display_data"
    }
   ],
   "source": [
    "#############################################\n",
    "# 内容確認。ここは書かなくてOKです。\n",
    "#############################################\n",
    "import numpy as np\n",
    "import matplotlib.pyplot as plt\n",
    "\n",
    "\n",
    "for i in range(3):\n",
    "    print(\"********************************\")\n",
    "    print(\"x_test[{}]のデータ\".format(i))\n",
    "    print(\"********************************\\n\")\n",
    "    \n",
    "    # 入力データを推論\n",
    "    pred = model.predict_classes(x_test[i].reshape(1,-1), batch_size=1, verbose=0)\n",
    "    print(\"NNの予想は:{}\".format(pred))\n",
    "\n",
    "    # 画面表示\n",
    "    print(\"画像は...\")\n",
    "    img_px = x_test[i].reshape(28,28)\n",
    "    plt.imshow(img_px)\n",
    "    plt.show()"
   ]
  },
  {
   "cell_type": "code",
   "execution_count": null,
   "metadata": {
    "collapsed": true
   },
   "outputs": [],
   "source": []
  },
  {
   "cell_type": "code",
   "execution_count": null,
   "metadata": {
    "collapsed": true
   },
   "outputs": [],
   "source": []
  },
  {
   "cell_type": "code",
   "execution_count": null,
   "metadata": {
    "collapsed": true
   },
   "outputs": [],
   "source": []
  }
 ],
 "metadata": {
  "kernelspec": {
   "display_name": "Python 3",
   "language": "python",
   "name": "python3"
  },
  "language_info": {
   "codemirror_mode": {
    "name": "ipython",
    "version": 3
   },
   "file_extension": ".py",
   "mimetype": "text/x-python",
   "name": "python",
   "nbconvert_exporter": "python",
   "pygments_lexer": "ipython3",
   "version": "3.6.1"
  }
 },
 "nbformat": 4,
 "nbformat_minor": 2
}
